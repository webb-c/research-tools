{
  "cells": [
    {
      "cell_type": "markdown",
      "metadata": {
        "id": "M36VFanosbkb"
      },
      "source": [
        "## Try `sortgs.py` on Google Colab\n",
        "This is a jupyter envirnment where you can try the code of the repository without installing anything. The only limitation is the robot checking problem which would require selenium and manual solution of the captchas, but for trying a few keywords, it should work!\n",
        "\n",
        "> **INSTRUCTIONS:** If this is the first time you are using a jupyter environment, you simply have to run the code blocks using the keyword `SHIFT` + `ENTER`. Make sure to update the keyword parameters when required.\n",
        "\n",
        "SortGS has been recently included to PyPI, so the instructions here got simpler. First, let's install the package:"
      ]
    },
    {
      "cell_type": "code",
      "execution_count": null,
      "metadata": {
        "colab": {
          "base_uri": "https://localhost:8080/"
        },
        "id": "oPot8aWcsfei",
        "outputId": "1c974ec7-b93e-4c12-9b96-d4b69c395924"
      },
      "outputs": [],
      "source": [
        "# !pip install sortgs"
      ]
    },
    {
      "cell_type": "markdown",
      "metadata": {
        "id": "KALGyCEJsvTL"
      },
      "source": [
        "Next, let's run it in the command line. Make sure to change \"deep learning\" to the keyword that you would like to have it ranked."
      ]
    },
    {
      "cell_type": "markdown",
      "metadata": {},
      "source": [
        "### Parameter setting"
      ]
    },
    {
      "cell_type": "code",
      "execution_count": null,
      "metadata": {},
      "outputs": [],
      "source": [
        "search_query = input(\"search_query: \")"
      ]
    },
    {
      "cell_type": "markdown",
      "metadata": {},
      "source": [
        "\n",
        "Some examples:\n",
        "\n",
        "- `Large Language Models` → General search\n",
        "- `\"Large Language Models\"` → Exact phrase search\n",
        "- `Large Language Models -transformer` → Exclude specific term\n",
        "- `Large Language Models author:\"Geoffrey Hinton\"` → Search by author\n",
        "- `Large Language Models source:Nature` → Search within a specific publication\n",
        "- `(\"Large Language Models\" OR \"Transformer Models\") AND (GPT OR BERT)` → Boolean search\n",
        "- `intitle:\"Large Language Models\"` → Search in the title only\n"
      ]
    },
    {
      "cell_type": "code",
      "execution_count": 9,
      "metadata": {},
      "outputs": [],
      "source": [
        "\n",
        "sortby = \"cit/year\"         # @param [\"Citations\", \"cit/year\"] {type:\"string\"}\n",
        "num_results = 100              \n",
        "start_year = 2010            \n",
        "end_year = None              \n",
        "lang_filter = None           # @param [\"None\", \"zh-CN\", \"zh-TW\", \"nl\", \"en\", \"fr\", \"de\", \"it\", \"ja\", \"ko\", \"pl\", \"pt\", \"es\", \"tr\"] {type:\"string\""
      ]
    },
    {
      "cell_type": "code",
      "execution_count": 10,
      "metadata": {},
      "outputs": [
        {
          "name": "stdout",
          "output_type": "stream",
          "text": [
            "Constructed command: sortgs 'quantum encoding' --sortby 'cit/year' --nresults 100 --csvpath results/ --startyear 2010\n"
          ]
        }
      ],
      "source": [
        "if lang_filter and lang_filter != \"None\":\n",
        "    lang_filter = [lang_filter]\n",
        "else:\n",
        "    lang_filter = None  \n",
        "\n",
        "cmd = f\"sortgs '{search_query}' --sortby '{sortby}' --nresults {num_results} --csvpath {'results/'}\"\n",
        "\n",
        "if start_year:\n",
        "    cmd += f\" --startyear {start_year}\"\n",
        "\n",
        "if end_year:\n",
        "    cmd += f\" --endyear {end_year}\"\n",
        "\n",
        "if lang_filter:\n",
        "    lang_str = ' '.join(lang_filter)\n",
        "    cmd += f\" --langfilter {lang_str}\"\n",
        "\n",
        "# Output the constructed command for review\n",
        "print(\"Constructed command:\", cmd)"
      ]
    },
    {
      "cell_type": "code",
      "execution_count": 11,
      "metadata": {},
      "outputs": [
        {
          "name": "stdout",
          "output_type": "stream",
          "text": [
            "Running with the following parameters:\n",
            "Keyword: quantum encoding, Number of results: 100, Save database: True, Path: results/, Sort by: cit/year, Permitted Languages: All, Plot results: False, Start year: 2010, End year: 2024, Debug: False\n",
            "Loading next 10 results\n",
            "Loading next 20 results\n",
            "Loading next 30 results\n",
            "Loading next 40 results\n",
            "Loading next 50 results\n",
            "Loading next 60 results\n",
            "Loading next 70 results\n",
            "Loading next 80 results\n",
            "Loading next 90 results\n",
            "Loading next 100 results\n",
            "                                                 Author  ... cit/year\n",
            "Rank                                                     ...         \n",
            "61      D Bluvstein, SJ Evered, AA Geim, SH Li, H Zhou…  ...      507\n",
            "83           C Weedbrook, S Pirandola, R García-Patrón…  ...      281\n",
            "41                    HY Huang, M Broughton, M Mohseni…  ...      180\n",
            "2                           M Schuld, R Sweke, JJ Meyer  ...      147\n",
            "21                                            BM Terhal  ...      130\n",
            "...                                                 ...  ...      ...\n",
            "39    KL Fenwick, F Bouchard, GS Thekkadath, D England…  ...        1\n",
            "98                                             Y Kawase  ...        1\n",
            "32                                        MH Wang, H Lü  ...        0\n",
            "54                       AM Childs, JP Liu, A Ostrander  ...        0\n",
            "8                                   G Agliardi, E Prati  ...        0\n",
            "\n",
            "[100 rows x 8 columns]\n",
            "Results saved to results/quantum_encoding.csv\n"
          ]
        }
      ],
      "source": [
        "!{cmd}"
      ]
    },
    {
      "cell_type": "code",
      "execution_count": 15,
      "metadata": {
        "id": "NVoHI4zTr5pB"
      },
      "outputs": [],
      "source": [
        "import pandas as pd\n",
        "\n",
        "str_search_query = search_query.replace(\" \", \"_\")\n",
        "result_path = f'results/{str_search_query}.csv' \n",
        "df = pd.read_csv(result_path)\n",
        "\n",
        "df.head(10)"
      ]
    },
    {
      "cell_type": "code",
      "execution_count": 16,
      "metadata": {
        "colab": {
          "base_uri": "https://localhost:8080/",
          "height": 537
        },
        "id": "S1NzeUq0sOu-",
        "outputId": "cba23086-7481-4992-f7f8-a1163e2e2b4b"
      },
      "outputs": [
        {
          "data": {
            "text/html": [
              "<div>\n",
              "<style scoped>\n",
              "    .dataframe tbody tr th:only-of-type {\n",
              "        vertical-align: middle;\n",
              "    }\n",
              "\n",
              "    .dataframe tbody tr th {\n",
              "        vertical-align: top;\n",
              "    }\n",
              "\n",
              "    .dataframe thead th {\n",
              "        text-align: right;\n",
              "    }\n",
              "</style>\n",
              "<table border=\"1\" class=\"dataframe\">\n",
              "  <thead>\n",
              "    <tr style=\"text-align: right;\">\n",
              "      <th></th>\n",
              "      <th>Rank</th>\n",
              "      <th>Author</th>\n",
              "      <th>Title</th>\n",
              "      <th>Citations</th>\n",
              "      <th>Year</th>\n",
              "      <th>Publisher</th>\n",
              "      <th>Venue</th>\n",
              "      <th>Source</th>\n",
              "      <th>cit/year</th>\n",
              "    </tr>\n",
              "  </thead>\n",
              "  <tbody>\n",
              "    <tr>\n",
              "      <th>0</th>\n",
              "      <td>61</td>\n",
              "      <td>D Bluvstein, SJ Evered, AA Geim, SH Li, H Zhou…</td>\n",
              "      <td>Logical quantum processor based on reconfigura...</td>\n",
              "      <td>507</td>\n",
              "      <td>2024</td>\n",
              "      <td>nature.com</td>\n",
              "      <td>Nature</td>\n",
              "      <td>https://www.nature.com/articles/s41586-023-069...</td>\n",
              "      <td>507</td>\n",
              "    </tr>\n",
              "    <tr>\n",
              "      <th>1</th>\n",
              "      <td>83</td>\n",
              "      <td>C Weedbrook, S Pirandola, R García-Patrón…</td>\n",
              "      <td>Gaussian quantum information</td>\n",
              "      <td>3654</td>\n",
              "      <td>2012</td>\n",
              "      <td>APS</td>\n",
              "      <td>Reviews of Modern …</td>\n",
              "      <td>https://journals.aps.org/rmp/abstract/10.1103/...</td>\n",
              "      <td>281</td>\n",
              "    </tr>\n",
              "    <tr>\n",
              "      <th>2</th>\n",
              "      <td>41</td>\n",
              "      <td>HY Huang, M Broughton, M Mohseni…</td>\n",
              "      <td>Power of data in quantum machine learning</td>\n",
              "      <td>718</td>\n",
              "      <td>2021</td>\n",
              "      <td>nature.com</td>\n",
              "      <td>Nature …</td>\n",
              "      <td>https://www.nature.com/articles/s41467-021-225...</td>\n",
              "      <td>180</td>\n",
              "    </tr>\n",
              "    <tr>\n",
              "      <th>3</th>\n",
              "      <td>2</td>\n",
              "      <td>M Schuld, R Sweke, JJ Meyer</td>\n",
              "      <td>Effect of data encoding on the expressive powe...</td>\n",
              "      <td>588</td>\n",
              "      <td>2021</td>\n",
              "      <td>APS</td>\n",
              "      <td>Physical Review A</td>\n",
              "      <td>https://journals.aps.org/pra/abstract/10.1103/...</td>\n",
              "      <td>147</td>\n",
              "    </tr>\n",
              "    <tr>\n",
              "      <th>4</th>\n",
              "      <td>21</td>\n",
              "      <td>BM Terhal</td>\n",
              "      <td>Quantum error correction for quantum memories</td>\n",
              "      <td>1299</td>\n",
              "      <td>2015</td>\n",
              "      <td>APS</td>\n",
              "      <td>Reviews of Modern Physics</td>\n",
              "      <td>https://journals.aps.org/rmp/abstract/10.1103/...</td>\n",
              "      <td>130</td>\n",
              "    </tr>\n",
              "    <tr>\n",
              "      <th>5</th>\n",
              "      <td>49</td>\n",
              "      <td>M Kues, C Reimer, JM Lukens, WJ Munro…</td>\n",
              "      <td>Quantum optical microcombs</td>\n",
              "      <td>702</td>\n",
              "      <td>2019</td>\n",
              "      <td>nature.com</td>\n",
              "      <td>Nature …</td>\n",
              "      <td>https://www.nature.com/articles/s41566-019-0363-0</td>\n",
              "      <td>117</td>\n",
              "    </tr>\n",
              "    <tr>\n",
              "      <th>6</th>\n",
              "      <td>46</td>\n",
              "      <td>N Ofek, A Petrenko, R Heeres, P Reinhold, Z Le...</td>\n",
              "      <td>Extending the lifetime of a quantum bit with e...</td>\n",
              "      <td>1007</td>\n",
              "      <td>2016</td>\n",
              "      <td>nature.com</td>\n",
              "      <td>Nature</td>\n",
              "      <td>https://www.nature.com/articles/nature18949</td>\n",
              "      <td>112</td>\n",
              "    </tr>\n",
              "    <tr>\n",
              "      <th>7</th>\n",
              "      <td>59</td>\n",
              "      <td>F Flamini, N Spagnolo, F Sciarrino</td>\n",
              "      <td>Photonic quantum information processing: a review</td>\n",
              "      <td>733</td>\n",
              "      <td>2018</td>\n",
              "      <td>iopscience.iop.org</td>\n",
              "      <td>Reports on Progress in …</td>\n",
              "      <td>https://iopscience.iop.org/article/10.1088/136...</td>\n",
              "      <td>105</td>\n",
              "    </tr>\n",
              "    <tr>\n",
              "      <th>8</th>\n",
              "      <td>90</td>\n",
              "      <td>W Zhang, DS Ding, YB Sheng, L Zhou, BS Shi…</td>\n",
              "      <td>Quantum secure direct communication with quant...</td>\n",
              "      <td>816</td>\n",
              "      <td>2017</td>\n",
              "      <td>APS</td>\n",
              "      <td>Physical review letters</td>\n",
              "      <td>https://journals.aps.org/prl/abstract/10.1103/...</td>\n",
              "      <td>102</td>\n",
              "    </tr>\n",
              "    <tr>\n",
              "      <th>9</th>\n",
              "      <td>27</td>\n",
              "      <td>P Campagne-Ibarcq, A Eickbusch, S Touzard…</td>\n",
              "      <td>Quantum error correction of a qubit encoded in...</td>\n",
              "      <td>475</td>\n",
              "      <td>2020</td>\n",
              "      <td>nature.com</td>\n",
              "      <td>Nature</td>\n",
              "      <td>https://www.nature.com/articles/s41586-020-2603-3</td>\n",
              "      <td>95</td>\n",
              "    </tr>\n",
              "  </tbody>\n",
              "</table>\n",
              "</div>"
            ],
            "text/plain": [
              "   Rank                                             Author  \\\n",
              "0    61    D Bluvstein, SJ Evered, AA Geim, SH Li, H Zhou…   \n",
              "1    83         C Weedbrook, S Pirandola, R García-Patrón…   \n",
              "2    41                  HY Huang, M Broughton, M Mohseni…   \n",
              "3     2                        M Schuld, R Sweke, JJ Meyer   \n",
              "4    21                                          BM Terhal   \n",
              "5    49             M Kues, C Reimer, JM Lukens, WJ Munro…   \n",
              "6    46  N Ofek, A Petrenko, R Heeres, P Reinhold, Z Le...   \n",
              "7    59                 F Flamini, N Spagnolo, F Sciarrino   \n",
              "8    90        W Zhang, DS Ding, YB Sheng, L Zhou, BS Shi…   \n",
              "9    27         P Campagne-Ibarcq, A Eickbusch, S Touzard…   \n",
              "\n",
              "                                               Title  Citations  Year  \\\n",
              "0  Logical quantum processor based on reconfigura...        507  2024   \n",
              "1                       Gaussian quantum information       3654  2012   \n",
              "2          Power of data in quantum machine learning        718  2021   \n",
              "3  Effect of data encoding on the expressive powe...        588  2021   \n",
              "4      Quantum error correction for quantum memories       1299  2015   \n",
              "5                         Quantum optical microcombs        702  2019   \n",
              "6  Extending the lifetime of a quantum bit with e...       1007  2016   \n",
              "7  Photonic quantum information processing: a review        733  2018   \n",
              "8  Quantum secure direct communication with quant...        816  2017   \n",
              "9  Quantum error correction of a qubit encoded in...        475  2020   \n",
              "\n",
              "             Publisher                       Venue  \\\n",
              "0           nature.com                      Nature   \n",
              "1                  APS         Reviews of Modern …   \n",
              "2           nature.com                    Nature …   \n",
              "3                  APS           Physical Review A   \n",
              "4                  APS   Reviews of Modern Physics   \n",
              "5           nature.com                    Nature …   \n",
              "6           nature.com                      Nature   \n",
              "7   iopscience.iop.org    Reports on Progress in …   \n",
              "8                  APS     Physical review letters   \n",
              "9           nature.com                      Nature   \n",
              "\n",
              "                                              Source  cit/year  \n",
              "0  https://www.nature.com/articles/s41586-023-069...       507  \n",
              "1  https://journals.aps.org/rmp/abstract/10.1103/...       281  \n",
              "2  https://www.nature.com/articles/s41467-021-225...       180  \n",
              "3  https://journals.aps.org/pra/abstract/10.1103/...       147  \n",
              "4  https://journals.aps.org/rmp/abstract/10.1103/...       130  \n",
              "5  https://www.nature.com/articles/s41566-019-0363-0       117  \n",
              "6        https://www.nature.com/articles/nature18949       112  \n",
              "7  https://iopscience.iop.org/article/10.1088/136...       105  \n",
              "8  https://journals.aps.org/prl/abstract/10.1103/...       102  \n",
              "9  https://www.nature.com/articles/s41586-020-2603-3        95  "
            ]
          },
          "execution_count": 16,
          "metadata": {},
          "output_type": "execute_result"
        }
      ],
      "source": []
    },
    {
      "cell_type": "code",
      "execution_count": null,
      "metadata": {
        "id": "pM_Bb4MH14eI"
      },
      "outputs": [],
      "source": []
    }
  ],
  "metadata": {
    "colab": {
      "name": "Test sortgs.py on Colab.ipynb",
      "provenance": []
    },
    "kernelspec": {
      "display_name": "base",
      "language": "python",
      "name": "python3"
    },
    "language_info": {
      "codemirror_mode": {
        "name": "ipython",
        "version": 3
      },
      "file_extension": ".py",
      "mimetype": "text/x-python",
      "name": "python",
      "nbconvert_exporter": "python",
      "pygments_lexer": "ipython3",
      "version": "3.12.2"
    }
  },
  "nbformat": 4,
  "nbformat_minor": 0
}
